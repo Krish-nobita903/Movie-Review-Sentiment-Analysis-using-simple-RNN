{
  "nbformat": 4,
  "nbformat_minor": 0,
  "metadata": {
    "colab": {
      "provenance": [],
      "gpuType": "T4",
      "authorship_tag": "ABX9TyPgb6OvnKcSCHx3D7vtDVmO",
      "include_colab_link": true
    },
    "kernelspec": {
      "name": "python3",
      "display_name": "Python 3"
    },
    "language_info": {
      "name": "python"
    },
    "accelerator": "GPU"
  },
  "cells": [
    {
      "cell_type": "markdown",
      "metadata": {
        "id": "view-in-github",
        "colab_type": "text"
      },
      "source": [
        "<a href=\"https://colab.research.google.com/github/Krish-nobita903/Movie-Review-Sentiment-Analysis-using-simple-RNN/blob/main/wordEmbedding_tut.ipynb\" target=\"_parent\"><img src=\"https://colab.research.google.com/assets/colab-badge.svg\" alt=\"Open In Colab\"/></a>"
      ]
    },
    {
      "cell_type": "code",
      "execution_count": 67,
      "metadata": {
        "id": "tEVaOiNbHh2r"
      },
      "outputs": [],
      "source": [
        "from tensorflow.keras.preprocessing.text import one_hot"
      ]
    },
    {
      "cell_type": "code",
      "source": [
        "sentences = [\n",
        "    \"The quick brown fox jumps over the dog.\",\n",
        "    \"Python is a versatile programming language.\",\n",
        "    \"Artificial intelligence is transforming industries.\",\n",
        "    \"The sun sets in the west.\",\n",
        "    \"She sells seashells by the seashore.\"\n",
        "]"
      ],
      "metadata": {
        "id": "BpxajSnWH0zE"
      },
      "execution_count": 68,
      "outputs": []
    },
    {
      "cell_type": "code",
      "source": [
        "voc_size = 10000"
      ],
      "metadata": {
        "id": "aGvGChpGIR1e"
      },
      "execution_count": 69,
      "outputs": []
    },
    {
      "cell_type": "code",
      "source": [
        "one_hot_rep = [one_hot(words,voc_size) for words in sentences]"
      ],
      "metadata": {
        "id": "UpJvK9aVIV7V"
      },
      "execution_count": 70,
      "outputs": []
    },
    {
      "cell_type": "code",
      "source": [
        "one_hot_rep"
      ],
      "metadata": {
        "colab": {
          "base_uri": "https://localhost:8080/"
        },
        "id": "_WJRSlC0Ims7",
        "outputId": "9f01adb4-bc0a-4687-8239-4e1b4f44b462"
      },
      "execution_count": 71,
      "outputs": [
        {
          "output_type": "execute_result",
          "data": {
            "text/plain": [
              "[[1332, 4188, 248, 2448, 4191, 279, 1332, 3876],\n",
              " [2330, 3921, 8163, 6810, 836, 2567],\n",
              " [8926, 5280, 3921, 979, 4678],\n",
              " [1332, 3495, 2486, 5628, 1332, 3692],\n",
              " [9682, 3535, 390, 8990, 1332, 9752]]"
            ]
          },
          "metadata": {},
          "execution_count": 71
        }
      ]
    },
    {
      "cell_type": "code",
      "source": [
        "!pip install tensorflow"
      ],
      "metadata": {
        "colab": {
          "base_uri": "https://localhost:8080/"
        },
        "id": "OGSW5gMmLmz1",
        "outputId": "cab746cc-128e-432e-8040-3b7a1e8bcee6"
      },
      "execution_count": 72,
      "outputs": [
        {
          "output_type": "stream",
          "name": "stdout",
          "text": [
            "Requirement already satisfied: tensorflow in /usr/local/lib/python3.10/dist-packages (2.17.0)\n",
            "Requirement already satisfied: absl-py>=1.0.0 in /usr/local/lib/python3.10/dist-packages (from tensorflow) (1.4.0)\n",
            "Requirement already satisfied: astunparse>=1.6.0 in /usr/local/lib/python3.10/dist-packages (from tensorflow) (1.6.3)\n",
            "Requirement already satisfied: flatbuffers>=24.3.25 in /usr/local/lib/python3.10/dist-packages (from tensorflow) (24.3.25)\n",
            "Requirement already satisfied: gast!=0.5.0,!=0.5.1,!=0.5.2,>=0.2.1 in /usr/local/lib/python3.10/dist-packages (from tensorflow) (0.6.0)\n",
            "Requirement already satisfied: google-pasta>=0.1.1 in /usr/local/lib/python3.10/dist-packages (from tensorflow) (0.2.0)\n",
            "Requirement already satisfied: h5py>=3.10.0 in /usr/local/lib/python3.10/dist-packages (from tensorflow) (3.11.0)\n",
            "Requirement already satisfied: libclang>=13.0.0 in /usr/local/lib/python3.10/dist-packages (from tensorflow) (18.1.1)\n",
            "Requirement already satisfied: ml-dtypes<0.5.0,>=0.3.1 in /usr/local/lib/python3.10/dist-packages (from tensorflow) (0.4.1)\n",
            "Requirement already satisfied: opt-einsum>=2.3.2 in /usr/local/lib/python3.10/dist-packages (from tensorflow) (3.3.0)\n",
            "Requirement already satisfied: packaging in /usr/local/lib/python3.10/dist-packages (from tensorflow) (24.1)\n",
            "Requirement already satisfied: protobuf!=4.21.0,!=4.21.1,!=4.21.2,!=4.21.3,!=4.21.4,!=4.21.5,<5.0.0dev,>=3.20.3 in /usr/local/lib/python3.10/dist-packages (from tensorflow) (3.20.3)\n",
            "Requirement already satisfied: requests<3,>=2.21.0 in /usr/local/lib/python3.10/dist-packages (from tensorflow) (2.32.3)\n",
            "Requirement already satisfied: setuptools in /usr/local/lib/python3.10/dist-packages (from tensorflow) (71.0.4)\n",
            "Requirement already satisfied: six>=1.12.0 in /usr/local/lib/python3.10/dist-packages (from tensorflow) (1.16.0)\n",
            "Requirement already satisfied: termcolor>=1.1.0 in /usr/local/lib/python3.10/dist-packages (from tensorflow) (2.4.0)\n",
            "Requirement already satisfied: typing-extensions>=3.6.6 in /usr/local/lib/python3.10/dist-packages (from tensorflow) (4.12.2)\n",
            "Requirement already satisfied: wrapt>=1.11.0 in /usr/local/lib/python3.10/dist-packages (from tensorflow) (1.16.0)\n",
            "Requirement already satisfied: grpcio<2.0,>=1.24.3 in /usr/local/lib/python3.10/dist-packages (from tensorflow) (1.64.1)\n",
            "Requirement already satisfied: tensorboard<2.18,>=2.17 in /usr/local/lib/python3.10/dist-packages (from tensorflow) (2.17.0)\n",
            "Requirement already satisfied: keras>=3.2.0 in /usr/local/lib/python3.10/dist-packages (from tensorflow) (3.4.1)\n",
            "Requirement already satisfied: tensorflow-io-gcs-filesystem>=0.23.1 in /usr/local/lib/python3.10/dist-packages (from tensorflow) (0.37.1)\n",
            "Requirement already satisfied: numpy<2.0.0,>=1.23.5 in /usr/local/lib/python3.10/dist-packages (from tensorflow) (1.26.4)\n",
            "Requirement already satisfied: wheel<1.0,>=0.23.0 in /usr/local/lib/python3.10/dist-packages (from astunparse>=1.6.0->tensorflow) (0.44.0)\n",
            "Requirement already satisfied: rich in /usr/local/lib/python3.10/dist-packages (from keras>=3.2.0->tensorflow) (13.8.1)\n",
            "Requirement already satisfied: namex in /usr/local/lib/python3.10/dist-packages (from keras>=3.2.0->tensorflow) (0.0.8)\n",
            "Requirement already satisfied: optree in /usr/local/lib/python3.10/dist-packages (from keras>=3.2.0->tensorflow) (0.12.1)\n",
            "Requirement already satisfied: charset-normalizer<4,>=2 in /usr/local/lib/python3.10/dist-packages (from requests<3,>=2.21.0->tensorflow) (3.3.2)\n",
            "Requirement already satisfied: idna<4,>=2.5 in /usr/local/lib/python3.10/dist-packages (from requests<3,>=2.21.0->tensorflow) (3.10)\n",
            "Requirement already satisfied: urllib3<3,>=1.21.1 in /usr/local/lib/python3.10/dist-packages (from requests<3,>=2.21.0->tensorflow) (2.0.7)\n",
            "Requirement already satisfied: certifi>=2017.4.17 in /usr/local/lib/python3.10/dist-packages (from requests<3,>=2.21.0->tensorflow) (2024.8.30)\n",
            "Requirement already satisfied: markdown>=2.6.8 in /usr/local/lib/python3.10/dist-packages (from tensorboard<2.18,>=2.17->tensorflow) (3.7)\n",
            "Requirement already satisfied: tensorboard-data-server<0.8.0,>=0.7.0 in /usr/local/lib/python3.10/dist-packages (from tensorboard<2.18,>=2.17->tensorflow) (0.7.2)\n",
            "Requirement already satisfied: werkzeug>=1.0.1 in /usr/local/lib/python3.10/dist-packages (from tensorboard<2.18,>=2.17->tensorflow) (3.0.4)\n",
            "Requirement already satisfied: MarkupSafe>=2.1.1 in /usr/local/lib/python3.10/dist-packages (from werkzeug>=1.0.1->tensorboard<2.18,>=2.17->tensorflow) (2.1.5)\n",
            "Requirement already satisfied: markdown-it-py>=2.2.0 in /usr/local/lib/python3.10/dist-packages (from rich->keras>=3.2.0->tensorflow) (3.0.0)\n",
            "Requirement already satisfied: pygments<3.0.0,>=2.13.0 in /usr/local/lib/python3.10/dist-packages (from rich->keras>=3.2.0->tensorflow) (2.18.0)\n",
            "Requirement already satisfied: mdurl~=0.1 in /usr/local/lib/python3.10/dist-packages (from markdown-it-py>=2.2.0->rich->keras>=3.2.0->tensorflow) (0.1.2)\n"
          ]
        }
      ]
    },
    {
      "cell_type": "code",
      "source": [
        "from tensorflow.keras.layers import Embedding\n",
        "from tensorflow.keras.utils import pad_sequences\n",
        "from tensorflow.keras.models import Sequential"
      ],
      "metadata": {
        "id": "vQj9BBXWJ-TR"
      },
      "execution_count": 73,
      "outputs": []
    },
    {
      "cell_type": "code",
      "source": [
        "import numpy as np"
      ],
      "metadata": {
        "id": "rD0kqwIVL-bI"
      },
      "execution_count": 74,
      "outputs": []
    },
    {
      "cell_type": "code",
      "source": [
        "sent_length = 8\n",
        "embeded_docs = pad_sequences(one_hot_rep,padding = 'pre',maxlen = sent_length)\n",
        "print(embeded_docs)"
      ],
      "metadata": {
        "colab": {
          "base_uri": "https://localhost:8080/"
        },
        "id": "iVVZ7zDSMi0Q",
        "outputId": "2f3cf6bb-c27c-4a76-b061-a0221eca3a49"
      },
      "execution_count": 75,
      "outputs": [
        {
          "output_type": "stream",
          "name": "stdout",
          "text": [
            "[[1332 4188  248 2448 4191  279 1332 3876]\n",
            " [   0    0 2330 3921 8163 6810  836 2567]\n",
            " [   0    0    0 8926 5280 3921  979 4678]\n",
            " [   0    0 1332 3495 2486 5628 1332 3692]\n",
            " [   0    0 9682 3535  390 8990 1332 9752]]\n"
          ]
        }
      ]
    },
    {
      "cell_type": "code",
      "source": [
        "## feature representation\n",
        "\n",
        "dim = 10"
      ],
      "metadata": {
        "id": "iZBg9uPAM_Sv"
      },
      "execution_count": 76,
      "outputs": []
    },
    {
      "cell_type": "code",
      "source": [
        "model = Sequential()\n",
        "model.add(Embedding(voc_size, dim, input_length=sent_length))\n",
        "#model.build(input_shape=(None, sent_length))  # Manually build the model\n",
        "model.compile(optimizer='adam', loss='mse')\n",
        "model.summary()\n"
      ],
      "metadata": {
        "colab": {
          "base_uri": "https://localhost:8080/",
          "height": 166
        },
        "id": "B0l5WxbKNIbU",
        "outputId": "db1b4fd4-ea9c-4b75-e51d-b865d81f00c1"
      },
      "execution_count": 81,
      "outputs": [
        {
          "output_type": "display_data",
          "data": {
            "text/plain": [
              "\u001b[1mModel: \"sequential_8\"\u001b[0m\n"
            ],
            "text/html": [
              "<pre style=\"white-space:pre;overflow-x:auto;line-height:normal;font-family:Menlo,'DejaVu Sans Mono',consolas,'Courier New',monospace\"><span style=\"font-weight: bold\">Model: \"sequential_8\"</span>\n",
              "</pre>\n"
            ]
          },
          "metadata": {}
        },
        {
          "output_type": "display_data",
          "data": {
            "text/plain": [
              "┏━━━━━━━━━━━━━━━━━━━━━━━━━━━━━━━━━━━━━━┳━━━━━━━━━━━━━━━━━━━━━━━━━━━━━┳━━━━━━━━━━━━━━━━━┓\n",
              "┃\u001b[1m \u001b[0m\u001b[1mLayer (type)                        \u001b[0m\u001b[1m \u001b[0m┃\u001b[1m \u001b[0m\u001b[1mOutput Shape               \u001b[0m\u001b[1m \u001b[0m┃\u001b[1m \u001b[0m\u001b[1m        Param #\u001b[0m\u001b[1m \u001b[0m┃\n",
              "┡━━━━━━━━━━━━━━━━━━━━━━━━━━━━━━━━━━━━━━╇━━━━━━━━━━━━━━━━━━━━━━━━━━━━━╇━━━━━━━━━━━━━━━━━┩\n",
              "│ embedding_8 (\u001b[38;5;33mEmbedding\u001b[0m)              │ ?                           │     \u001b[38;5;34m0\u001b[0m (unbuilt) │\n",
              "└──────────────────────────────────────┴─────────────────────────────┴─────────────────┘\n"
            ],
            "text/html": [
              "<pre style=\"white-space:pre;overflow-x:auto;line-height:normal;font-family:Menlo,'DejaVu Sans Mono',consolas,'Courier New',monospace\">┏━━━━━━━━━━━━━━━━━━━━━━━━━━━━━━━━━━━━━━┳━━━━━━━━━━━━━━━━━━━━━━━━━━━━━┳━━━━━━━━━━━━━━━━━┓\n",
              "┃<span style=\"font-weight: bold\"> Layer (type)                         </span>┃<span style=\"font-weight: bold\"> Output Shape                </span>┃<span style=\"font-weight: bold\">         Param # </span>┃\n",
              "┡━━━━━━━━━━━━━━━━━━━━━━━━━━━━━━━━━━━━━━╇━━━━━━━━━━━━━━━━━━━━━━━━━━━━━╇━━━━━━━━━━━━━━━━━┩\n",
              "│ embedding_8 (<span style=\"color: #0087ff; text-decoration-color: #0087ff\">Embedding</span>)              │ ?                           │     <span style=\"color: #00af00; text-decoration-color: #00af00\">0</span> (unbuilt) │\n",
              "└──────────────────────────────────────┴─────────────────────────────┴─────────────────┘\n",
              "</pre>\n"
            ]
          },
          "metadata": {}
        },
        {
          "output_type": "display_data",
          "data": {
            "text/plain": [
              "\u001b[1m Total params: \u001b[0m\u001b[38;5;34m0\u001b[0m (0.00 B)\n"
            ],
            "text/html": [
              "<pre style=\"white-space:pre;overflow-x:auto;line-height:normal;font-family:Menlo,'DejaVu Sans Mono',consolas,'Courier New',monospace\"><span style=\"font-weight: bold\"> Total params: </span><span style=\"color: #00af00; text-decoration-color: #00af00\">0</span> (0.00 B)\n",
              "</pre>\n"
            ]
          },
          "metadata": {}
        },
        {
          "output_type": "display_data",
          "data": {
            "text/plain": [
              "\u001b[1m Trainable params: \u001b[0m\u001b[38;5;34m0\u001b[0m (0.00 B)\n"
            ],
            "text/html": [
              "<pre style=\"white-space:pre;overflow-x:auto;line-height:normal;font-family:Menlo,'DejaVu Sans Mono',consolas,'Courier New',monospace\"><span style=\"font-weight: bold\"> Trainable params: </span><span style=\"color: #00af00; text-decoration-color: #00af00\">0</span> (0.00 B)\n",
              "</pre>\n"
            ]
          },
          "metadata": {}
        },
        {
          "output_type": "display_data",
          "data": {
            "text/plain": [
              "\u001b[1m Non-trainable params: \u001b[0m\u001b[38;5;34m0\u001b[0m (0.00 B)\n"
            ],
            "text/html": [
              "<pre style=\"white-space:pre;overflow-x:auto;line-height:normal;font-family:Menlo,'DejaVu Sans Mono',consolas,'Courier New',monospace\"><span style=\"font-weight: bold\"> Non-trainable params: </span><span style=\"color: #00af00; text-decoration-color: #00af00\">0</span> (0.00 B)\n",
              "</pre>\n"
            ]
          },
          "metadata": {}
        }
      ]
    },
    {
      "cell_type": "code",
      "source": [
        "model.predict(embeded_docs)"
      ],
      "metadata": {
        "colab": {
          "base_uri": "https://localhost:8080/"
        },
        "id": "kovKiMwKOG88",
        "outputId": "55c42a1a-68df-4e7b-8b31-1d807076125b"
      },
      "execution_count": 82,
      "outputs": [
        {
          "output_type": "stream",
          "name": "stdout",
          "text": [
            "\u001b[1m1/1\u001b[0m \u001b[32m━━━━━━━━━━━━━━━━━━━━\u001b[0m\u001b[37m\u001b[0m \u001b[1m0s\u001b[0m 125ms/step\n"
          ]
        },
        {
          "output_type": "execute_result",
          "data": {
            "text/plain": [
              "array([[[ 0.00300242, -0.01956931,  0.04237283, -0.0029325 ,\n",
              "         -0.02944497, -0.04098129, -0.01614708, -0.02284303,\n",
              "          0.02589377,  0.04321666],\n",
              "        [ 0.01033051, -0.00013513, -0.00963836, -0.03123161,\n",
              "          0.00673051,  0.04708873, -0.02648361, -0.02923416,\n",
              "         -0.03659592, -0.02891802],\n",
              "        [-0.04847273,  0.0030748 ,  0.02880048,  0.02317352,\n",
              "          0.03237641,  0.01306364, -0.03596463, -0.00598731,\n",
              "         -0.04065974, -0.00768397],\n",
              "        [-0.03314503, -0.00639069,  0.03606344,  0.0203898 ,\n",
              "         -0.04531088,  0.01456866,  0.03493461,  0.02344744,\n",
              "         -0.02893391, -0.02401271],\n",
              "        [ 0.04394348,  0.00950034, -0.04437559, -0.04031382,\n",
              "          0.01499471, -0.03192549,  0.0266291 , -0.02919455,\n",
              "         -0.02966681, -0.0370387 ],\n",
              "        [-0.00862248, -0.04367958, -0.04259543, -0.03398752,\n",
              "          0.00562979,  0.00702836,  0.01424049, -0.00467734,\n",
              "          0.0349118 ,  0.02837995],\n",
              "        [ 0.00300242, -0.01956931,  0.04237283, -0.0029325 ,\n",
              "         -0.02944497, -0.04098129, -0.01614708, -0.02284303,\n",
              "          0.02589377,  0.04321666],\n",
              "        [-0.04720639,  0.04179056, -0.00516443, -0.02226239,\n",
              "         -0.04617494, -0.03964848, -0.02731716, -0.03779726,\n",
              "         -0.00260227, -0.02006507]],\n",
              "\n",
              "       [[-0.02949997,  0.0414567 , -0.04915416,  0.02676581,\n",
              "         -0.04110271, -0.02949445, -0.01156819,  0.01537645,\n",
              "         -0.01646805, -0.01097441],\n",
              "        [-0.02949997,  0.0414567 , -0.04915416,  0.02676581,\n",
              "         -0.04110271, -0.02949445, -0.01156819,  0.01537645,\n",
              "         -0.01646805, -0.01097441],\n",
              "        [ 0.02910975,  0.04064396,  0.02091089, -0.04646937,\n",
              "         -0.04165095,  0.01513907,  0.02607762,  0.01421342,\n",
              "         -0.04603497,  0.01365376],\n",
              "        [ 0.03901524,  0.01931797,  0.01993568,  0.0182457 ,\n",
              "          0.04498928, -0.04919089, -0.04884186,  0.02130318,\n",
              "         -0.01523714, -0.01971725],\n",
              "        [-0.00467912,  0.03505022, -0.01053637,  0.04093904,\n",
              "          0.01431194, -0.00855159,  0.02949524,  0.01365818,\n",
              "         -0.00394132,  0.03470493],\n",
              "        [-0.01565092, -0.01522652,  0.02890989,  0.048074  ,\n",
              "          0.03734216,  0.02529513,  0.03941799,  0.04341476,\n",
              "          0.00984163, -0.00837637],\n",
              "        [ 0.01567259, -0.00881617, -0.04488686,  0.03014398,\n",
              "          0.04146086, -0.01372061,  0.04539237, -0.02235438,\n",
              "         -0.04306979, -0.0125736 ],\n",
              "        [ 0.0134971 , -0.0480921 , -0.03065494,  0.033904  ,\n",
              "          0.03167815,  0.02878019, -0.03287748,  0.0131417 ,\n",
              "         -0.03764126,  0.0158585 ]],\n",
              "\n",
              "       [[-0.02949997,  0.0414567 , -0.04915416,  0.02676581,\n",
              "         -0.04110271, -0.02949445, -0.01156819,  0.01537645,\n",
              "         -0.01646805, -0.01097441],\n",
              "        [-0.02949997,  0.0414567 , -0.04915416,  0.02676581,\n",
              "         -0.04110271, -0.02949445, -0.01156819,  0.01537645,\n",
              "         -0.01646805, -0.01097441],\n",
              "        [-0.02949997,  0.0414567 , -0.04915416,  0.02676581,\n",
              "         -0.04110271, -0.02949445, -0.01156819,  0.01537645,\n",
              "         -0.01646805, -0.01097441],\n",
              "        [-0.00450917,  0.00799155,  0.0457242 ,  0.00499148,\n",
              "         -0.04498265, -0.00244409, -0.02852469,  0.00671234,\n",
              "         -0.03991965,  0.04521621],\n",
              "        [-0.01487809,  0.03987566, -0.0271592 ,  0.00927738,\n",
              "         -0.03392272,  0.04890343,  0.04434861, -0.03945404,\n",
              "         -0.00327788,  0.04014187],\n",
              "        [ 0.03901524,  0.01931797,  0.01993568,  0.0182457 ,\n",
              "          0.04498928, -0.04919089, -0.04884186,  0.02130318,\n",
              "         -0.01523714, -0.01971725],\n",
              "        [-0.01007562,  0.01023716, -0.00767181, -0.03526652,\n",
              "         -0.03471554,  0.03275767,  0.00691929, -0.01954868,\n",
              "         -0.0204693 ,  0.00099459],\n",
              "        [-0.04589834, -0.00712457,  0.04371187,  0.03323894,\n",
              "         -0.00967675,  0.00702962, -0.02054278,  0.03469301,\n",
              "          0.01545304,  0.01093996]],\n",
              "\n",
              "       [[-0.02949997,  0.0414567 , -0.04915416,  0.02676581,\n",
              "         -0.04110271, -0.02949445, -0.01156819,  0.01537645,\n",
              "         -0.01646805, -0.01097441],\n",
              "        [-0.02949997,  0.0414567 , -0.04915416,  0.02676581,\n",
              "         -0.04110271, -0.02949445, -0.01156819,  0.01537645,\n",
              "         -0.01646805, -0.01097441],\n",
              "        [ 0.00300242, -0.01956931,  0.04237283, -0.0029325 ,\n",
              "         -0.02944497, -0.04098129, -0.01614708, -0.02284303,\n",
              "          0.02589377,  0.04321666],\n",
              "        [ 0.03415699,  0.0462738 , -0.02723944,  0.04814691,\n",
              "         -0.02412287, -0.00493758, -0.0127341 ,  0.03628797,\n",
              "          0.04226894,  0.01148866],\n",
              "        [ 0.04666236, -0.04917996,  0.00039228, -0.01841839,\n",
              "         -0.00266948, -0.04381514, -0.01096087,  0.01242907,\n",
              "          0.00566875,  0.04666087],\n",
              "        [-0.02655711, -0.00820874,  0.0307931 , -0.03102311,\n",
              "         -0.00293156,  0.03222224, -0.01678892, -0.04369311,\n",
              "          0.02997409, -0.03484007],\n",
              "        [ 0.00300242, -0.01956931,  0.04237283, -0.0029325 ,\n",
              "         -0.02944497, -0.04098129, -0.01614708, -0.02284303,\n",
              "          0.02589377,  0.04321666],\n",
              "        [ 0.00296056, -0.02246518,  0.00771542,  0.02970218,\n",
              "          0.00389437,  0.01973749, -0.00660863,  0.01265336,\n",
              "          0.0085867 ,  0.01438874]],\n",
              "\n",
              "       [[-0.02949997,  0.0414567 , -0.04915416,  0.02676581,\n",
              "         -0.04110271, -0.02949445, -0.01156819,  0.01537645,\n",
              "         -0.01646805, -0.01097441],\n",
              "        [-0.02949997,  0.0414567 , -0.04915416,  0.02676581,\n",
              "         -0.04110271, -0.02949445, -0.01156819,  0.01537645,\n",
              "         -0.01646805, -0.01097441],\n",
              "        [-0.0077451 ,  0.00466985, -0.04234914,  0.04941309,\n",
              "          0.04369289, -0.02783403,  0.0478482 , -0.02135551,\n",
              "          0.01672641, -0.01643395],\n",
              "        [ 0.0482533 , -0.04642056,  0.02976502,  0.02235958,\n",
              "          0.01389239,  0.03087189, -0.00887699, -0.032357  ,\n",
              "          0.02359224,  0.03148463],\n",
              "        [ 0.01112074,  0.0498433 , -0.01044559, -0.01279708,\n",
              "          0.00472127, -0.04992991, -0.02228326,  0.00696055,\n",
              "         -0.00762231,  0.00571443],\n",
              "        [-0.01717461,  0.03375384,  0.04807175, -0.01441563,\n",
              "          0.03471286, -0.03812651, -0.02945497, -0.04480435,\n",
              "         -0.01227031,  0.04086614],\n",
              "        [ 0.00300242, -0.01956931,  0.04237283, -0.0029325 ,\n",
              "         -0.02944497, -0.04098129, -0.01614708, -0.02284303,\n",
              "          0.02589377,  0.04321666],\n",
              "        [-0.04000195, -0.00055704, -0.04806426, -0.00810654,\n",
              "          0.00178311,  0.01447794, -0.01984774,  0.00769137,\n",
              "          0.03540054, -0.03766739]]], dtype=float32)"
            ]
          },
          "metadata": {},
          "execution_count": 82
        }
      ]
    },
    {
      "cell_type": "code",
      "source": [
        "  embeded_docs[0]"
      ],
      "metadata": {
        "colab": {
          "base_uri": "https://localhost:8080/"
        },
        "id": "_UtPiz75PblF",
        "outputId": "09892d36-33f0-4159-cd98-0a63b8174917"
      },
      "execution_count": 83,
      "outputs": [
        {
          "output_type": "execute_result",
          "data": {
            "text/plain": [
              "array([1332, 4188,  248, 2448, 4191,  279, 1332, 3876], dtype=int32)"
            ]
          },
          "metadata": {},
          "execution_count": 83
        }
      ]
    },
    {
      "cell_type": "code",
      "source": [
        "print(embeded_docs[0].shape)"
      ],
      "metadata": {
        "colab": {
          "base_uri": "https://localhost:8080/"
        },
        "id": "9dHZSKHVRsV4",
        "outputId": "92f6eb47-2e9a-4583-9097-8380a514fbd6"
      },
      "execution_count": 85,
      "outputs": [
        {
          "output_type": "stream",
          "name": "stdout",
          "text": [
            "(8,)\n"
          ]
        }
      ]
    },
    {
      "cell_type": "code",
      "source": [
        "reshaped_input = embeded_docs[0].reshape(1, -1)"
      ],
      "metadata": {
        "id": "2w9o_YA7PsGj"
      },
      "execution_count": 86,
      "outputs": []
    },
    {
      "cell_type": "code",
      "source": [
        "prediction = model.predict(reshaped_input)"
      ],
      "metadata": {
        "colab": {
          "base_uri": "https://localhost:8080/"
        },
        "id": "UWZoJp9iPvos",
        "outputId": "0acd28a0-673b-485d-92f6-940a96f9910f"
      },
      "execution_count": 87,
      "outputs": [
        {
          "output_type": "stream",
          "name": "stdout",
          "text": [
            "\u001b[1m1/1\u001b[0m \u001b[32m━━━━━━━━━━━━━━━━━━━━\u001b[0m\u001b[37m\u001b[0m \u001b[1m0s\u001b[0m 150ms/step\n"
          ]
        }
      ]
    },
    {
      "cell_type": "code",
      "source": [
        "prediction"
      ],
      "metadata": {
        "colab": {
          "base_uri": "https://localhost:8080/"
        },
        "id": "uT5wwdIwR-Ip",
        "outputId": "7eb209c8-1b05-4dff-d57d-bd993b6c48eb"
      },
      "execution_count": 88,
      "outputs": [
        {
          "output_type": "execute_result",
          "data": {
            "text/plain": [
              "array([[[ 0.00300242, -0.01956931,  0.04237283, -0.0029325 ,\n",
              "         -0.02944497, -0.04098129, -0.01614708, -0.02284303,\n",
              "          0.02589377,  0.04321666],\n",
              "        [ 0.01033051, -0.00013513, -0.00963836, -0.03123161,\n",
              "          0.00673051,  0.04708873, -0.02648361, -0.02923416,\n",
              "         -0.03659592, -0.02891802],\n",
              "        [-0.04847273,  0.0030748 ,  0.02880048,  0.02317352,\n",
              "          0.03237641,  0.01306364, -0.03596463, -0.00598731,\n",
              "         -0.04065974, -0.00768397],\n",
              "        [-0.03314503, -0.00639069,  0.03606344,  0.0203898 ,\n",
              "         -0.04531088,  0.01456866,  0.03493461,  0.02344744,\n",
              "         -0.02893391, -0.02401271],\n",
              "        [ 0.04394348,  0.00950034, -0.04437559, -0.04031382,\n",
              "          0.01499471, -0.03192549,  0.0266291 , -0.02919455,\n",
              "         -0.02966681, -0.0370387 ],\n",
              "        [-0.00862248, -0.04367958, -0.04259543, -0.03398752,\n",
              "          0.00562979,  0.00702836,  0.01424049, -0.00467734,\n",
              "          0.0349118 ,  0.02837995],\n",
              "        [ 0.00300242, -0.01956931,  0.04237283, -0.0029325 ,\n",
              "         -0.02944497, -0.04098129, -0.01614708, -0.02284303,\n",
              "          0.02589377,  0.04321666],\n",
              "        [-0.04720639,  0.04179056, -0.00516443, -0.02226239,\n",
              "         -0.04617494, -0.03964848, -0.02731716, -0.03779726,\n",
              "         -0.00260227, -0.02006507]]], dtype=float32)"
            ]
          },
          "metadata": {},
          "execution_count": 88
        }
      ]
    },
    {
      "cell_type": "code",
      "source": [],
      "metadata": {
        "id": "M405KQgsR_wa"
      },
      "execution_count": null,
      "outputs": []
    }
  ]
}